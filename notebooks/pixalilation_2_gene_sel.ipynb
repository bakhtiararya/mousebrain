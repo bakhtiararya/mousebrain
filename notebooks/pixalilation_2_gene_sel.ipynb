{
 "cells": [
  {
   "cell_type": "code",
   "execution_count": null,
   "id": "abff3392-fe15-4b7b-9608-841490eeb21b",
   "metadata": {},
   "outputs": [],
   "source": [
    "import scanpy as sc\n",
    "import matplotlib\n",
    "import matplotlib.pyplot as plt\n",
    "import numpy as np\n",
    "import matplotlib as mpl\n",
    "import os\n",
    "import math\n",
    "import seaborn as sns\n",
    "import anndata as ad\n",
    "import hdf5plugin\n",
    "import pandas as pd\n",
    "import sys\n",
    "import time"
   ]
  },
  {
   "cell_type": "code",
   "execution_count": null,
   "id": "83af2fdd-bbe1-4264-bb62-6984bc728323",
   "metadata": {},
   "outputs": [],
   "source": [
    "hahn_spatial_assay_anndata = ad.read_h5ad(\"hahn_spatial_assay_anndata\")\n",
    "hahn_spatial_assay_anndata"
   ]
  },
  {
   "cell_type": "code",
   "execution_count": null,
   "id": "503c32a8-0b49-4bf3-bed6-14c2b0fd8e02",
   "metadata": {},
   "outputs": [],
   "source": [
    "hahn_spatial_assay_anndata.obs['imagerow_int'] = hahn_spatial_assay_anndata.obs['imagerow'] * 100000000\n",
    "hahn_spatial_assay_anndata.obs['imagecol_int'] = hahn_spatial_assay_anndata.obs['imagecol'] * 100000000\n",
    "\n",
    "hahn_spatial_assay_anndata.obs['imagerow_int'] = hahn_spatial_assay_anndata.obs['imagerow_int'].astype(int)\n",
    "hahn_spatial_assay_anndata.obs['imagecol_int'] = hahn_spatial_assay_anndata.obs['imagecol_int'].astype(int)\n",
    "\n",
    "print(min(hahn_spatial_assay_anndata.obs['imagerow']))\n",
    "print(max(hahn_spatial_assay_anndata.obs['imagerow']))\n",
    "print(min(hahn_spatial_assay_anndata.obs['imagecol']))\n",
    "print(max(hahn_spatial_assay_anndata.obs['imagecol']))\n",
    "print(min(hahn_spatial_assay_anndata.obs['imagerow_int']))\n",
    "print(max(hahn_spatial_assay_anndata.obs['imagerow_int']))\n",
    "print(min(hahn_spatial_assay_anndata.obs['imagecol_int']))\n",
    "print(max(hahn_spatial_assay_anndata.obs['imagecol_int']))\n",
    "print()\n",
    "print(len(hahn_spatial_assay_anndata.obs['imagerow'].value_counts()))\n",
    "print(len(hahn_spatial_assay_anndata.obs['imagecol'].value_counts()))\n",
    "print(len(hahn_spatial_assay_anndata.obs['imagerow_int'].value_counts()))\n",
    "print(len(hahn_spatial_assay_anndata.obs['imagecol_int'].value_counts()))"
   ]
  },
  {
   "cell_type": "code",
   "execution_count": null,
   "id": "259f84e3-6bf2-41eb-9178-a1b24c5b3ecc",
   "metadata": {},
   "outputs": [],
   "source": [
    "num_x_bins = 55\n",
    "num_y_bins = 55\n",
    "num_pixel_row = num_x_bins\n",
    "num_pixel_height = num_y_bins\n",
    "\n",
    "original_x_max = 51657716610\n",
    "original_y_max = 51657716610\n",
    "\n",
    "x_bin_width = original_x_max / num_x_bins\n",
    "y_bin_width = original_y_max / num_y_bins\n",
    "\n",
    "# Assuming your DataFrame is called 'df'\n",
    "hahn_spatial_assay_anndata.obs['pixelrow'] = pd.cut(hahn_spatial_assay_anndata.obs['imagerow_int'], bins=num_x_bins, labels=False, include_lowest=True)\n",
    "hahn_spatial_assay_anndata.obs['pixelcol'] = pd.cut(hahn_spatial_assay_anndata.obs['imagecol_int'], bins=num_y_bins, labels=False, include_lowest=True)\n",
    "\n",
    "print(min(hahn_spatial_assay_anndata.obs['imagerow']))\n",
    "print(max(hahn_spatial_assay_anndata.obs['imagerow']))\n",
    "print(min(hahn_spatial_assay_anndata.obs['imagecol']))\n",
    "print(max(hahn_spatial_assay_anndata.obs['imagecol']))\n",
    "print(min(hahn_spatial_assay_anndata.obs['pixelrow']))\n",
    "print(max(hahn_spatial_assay_anndata.obs['pixelrow']))\n",
    "print(min(hahn_spatial_assay_anndata.obs['pixelcol']))\n",
    "print(max(hahn_spatial_assay_anndata.obs['pixelcol']))\n",
    "print()\n",
    "print(len(hahn_spatial_assay_anndata.obs['imagerow'].value_counts()))\n",
    "print(len(hahn_spatial_assay_anndata.obs['imagecol'].value_counts()))\n",
    "print(len(hahn_spatial_assay_anndata.obs['pixelrow'].value_counts()))\n",
    "print(len(hahn_spatial_assay_anndata.obs['pixelcol'].value_counts()))\n",
    "\n",
    "display(hahn_spatial_assay_anndata.obs)"
   ]
  },
  {
   "cell_type": "code",
   "execution_count": null,
   "id": "280306d2-5188-4111-87c4-28a8c9ca04f3",
   "metadata": {},
   "outputs": [],
   "source": [
    "# PRE FILTERING - MUST DO TO ENSURE 3 AGES ALL HAVE THE EXACT SAME GENES\n",
    "\n",
    "hahn_spatial_assay_anndata = hahn_spatial_assay_anndata[hahn_spatial_assay_anndata.obs['slice'] != 'slice1']\n",
    "hahn_spatial_assay_anndata = hahn_spatial_assay_anndata[hahn_spatial_assay_anndata.obs['slice'] != 'slice1_1_1']\n",
    "hahn_spatial_assay_anndata = hahn_spatial_assay_anndata[hahn_spatial_assay_anndata.obs['slice'] != 'slice1_2_2']\n",
    "\n",
    "# Get the indices of genes with non-zero expression in all cells\n",
    "genes_to_keep = np.where(hahn_spatial_assay_anndata.X.astype(bool).sum(axis=0))[0]\n",
    "\n",
    "# Filter the AnnData object to retain only the selected genes\n",
    "hahn_spatial_assay_anndata = hahn_spatial_assay_anndata[:, genes_to_keep]\n",
    "hahn_spatial_assay_anndata"
   ]
  },
  {
   "cell_type": "code",
   "execution_count": null,
   "id": "c2136572-27ed-4036-a7c6-a86f82608a11",
   "metadata": {},
   "outputs": [],
   "source": [
    "hahn_spatial_assay_anndata.obs"
   ]
  },
  {
   "cell_type": "code",
   "execution_count": null,
   "id": "7bc833ab-b84b-4dcb-abe6-dc0af8e3ab33",
   "metadata": {
    "tags": []
   },
   "outputs": [],
   "source": [
    "hahn_spatial_assay_anndata.X"
   ]
  },
  {
   "cell_type": "code",
   "execution_count": null,
   "id": "a9aa50c1-1694-4e9d-9d8a-889fc072e1f6",
   "metadata": {
    "tags": []
   },
   "outputs": [],
   "source": [
    "\"\"\"\n",
    "sum_expression = np.sum(np.array(hahn_spatial_assay_anndata.X), axis=1)\n",
    "plt.hist(sum_expression, bins=10000000)  # Adjust the number of bins as desired\n",
    "plt.xlabel('Sum of Gene Expression')\n",
    "plt.ylabel('Frequency')\n",
    "plt.title('Distribution of Sum of Gene Expression')\n",
    "plt.xlim(500, 5500)\n",
    "plt.show()\n",
    "\"\"\""
   ]
  },
  {
   "cell_type": "code",
   "execution_count": null,
   "id": "a1850120-843d-4d5b-80fa-dcd87e507d9c",
   "metadata": {
    "tags": []
   },
   "outputs": [],
   "source": [
    "def filter_genes_by_sum(ad, threshold):\n",
    "    # Calculate the sum expression for each gene\n",
    "    gene_sum = np.array(ad.X.sum(axis=0)).flatten()\n",
    "\n",
    "    # Create a boolean mask indicating which genes pass the threshold\n",
    "    pass_threshold = gene_sum >= threshold\n",
    "\n",
    "    # Filter out the genes using the boolean mask\n",
    "    filtered_genes = ad[:, pass_threshold]\n",
    "\n",
    "    return filtered_genes\n",
    "\n",
    "# Set the threshold for sum expression\n",
    "threshold = 3900\n",
    "\n",
    "# Filter out genes based on the sum expression threshold\n",
    "filtered_ad = filter_genes_by_sum(hahn_spatial_assay_anndata, threshold)\n",
    "\n",
    "filtered_ad\n"
   ]
  },
  {
   "cell_type": "code",
   "execution_count": null,
   "id": "8705253f-e485-429a-8077-c95417d8c12b",
   "metadata": {},
   "outputs": [],
   "source": [
    "filtered_ad = hahn_spatial_assay_anndata"
   ]
  },
  {
   "cell_type": "code",
   "execution_count": null,
   "id": "94a4da78-f187-434a-8acc-c7ead34ac79c",
   "metadata": {
    "tags": []
   },
   "outputs": [],
   "source": [
    "filtered_ad.var"
   ]
  },
  {
   "cell_type": "code",
   "execution_count": null,
   "id": "a93a91e2-14d3-42f2-8ea9-8eceb22a8cf0",
   "metadata": {
    "tags": []
   },
   "outputs": [],
   "source": [
    "start_time = time.time()\n",
    "\n",
    "# Filter for specific Age and Slice\n",
    "\n",
    "# age_slice_lst = [('M6', 'slice1'), ('M18', 'slice1_1_1'), ('M21', 'slice1_2_2')]\n",
    "age_slice_lst = [('M6', 'slice1_3_3'), ('M18', 'slice1_4_4'), ('M21', 'slice1_5_5')]\n",
    "\n",
    "\n",
    "gene_expression_2D_array_lst = []\n",
    "\n",
    "gene_lst_for_each_slice_lst = []\n",
    "\n",
    "for specific_age, specific_slice in age_slice_lst:\n",
    "\n",
    "    age_specific_anndata = hahn_spatial_assay_anndata[hahn_spatial_assay_anndata.obs['age'] == specific_age]\n",
    "    specific_age_slice_mouse_anndata = age_specific_anndata[age_specific_anndata.obs['slice'] == specific_slice]\n",
    "\n",
    "    unique_row_pixel_vals = specific_age_slice_mouse_anndata.obs['pixelrow'].unique()\n",
    "    unique_row_pixel_vals.sort()\n",
    "    unique_num_pixel_row = len(unique_row_pixel_vals)\n",
    "\n",
    "    unique_col_pixel_vals = specific_age_slice_mouse_anndata.obs['pixelcol'].unique()\n",
    "    unique_col_pixel_vals.sort()\n",
    "    unique_num_pixel_height = len(unique_col_pixel_vals)\n",
    "\n",
    "    \"\"\"\n",
    "    print(\"Number of Cells: \", specific_age_slice_mouse_anndata.X.shape[0])\n",
    "    print(\"Number of Genes: \", specific_age_slice_mouse_anndata.X.shape[1])\n",
    "    print(\"# Pixel for Rows:\", num_pixel_row)\n",
    "    print(\"# Pixel for Heights:\", num_pixel_height)\n",
    "    print(\"# Pixels in total:\", num_pixel_row*num_pixel_height)\n",
    "    \"\"\"\n",
    "\n",
    "    gene_col_index_lst = list(specific_age_slice_mouse_anndata.var.index)\n",
    "    gene_col_index_lst.sort()\n",
    "    \n",
    "    # for osNMF_genes_only\n",
    "    \"\"\"\n",
    "    OsNMF_gene_list = ['A930009E05Rik', 'Adora2a', 'Amoti1', 'Amotl1', 'Arhgap25', 'Baalc', 'Bend5', 'Boc', 'Box', 'Cadm2', 'Cd4', 'Cplx3', 'Crf1', 'Crlf1', 'Cyp7b1', 'Dact2', \n",
    "                 'Ddit4', 'Ddit4l', 'Dnah11', 'E130012A19Rik', 'Eomes', 'Epb4', 'Epb4.1l2', 'Fabp3', 'Fam102b', 'Fam184a', 'Frmd6', 'Gabra6', 'Gjc1', 'Gm10635', 'Gm261', \n",
    "                 'Gng4', 'Gpc4', 'Gpo4', 'Gpr6', 'Gprin3', 'Hkdc1', 'Igfn1', 'Ighm', 'Igth1', 'Iqgap2', 'Jam2', 'KIKB', 'Kcnb2', 'Klk8', 'Krt80', 'LOC433727', 'Lct', 'Lef1', \n",
    "                 'Lot', 'Mas1', 'Mast', 'Mlip', 'Mp', 'My14', 'Myl4', 'Myo16', 'Nmb', 'Pde1b', 'Pdzm3', 'Pdzrn3', 'Pkp2', 'Plekhg1', 'Plxnd1', 'Pmch', 'Pond1', 'Prox1', \n",
    "                 'Rarb', 'Rasa2', 'Rasd2', 'Rg89', 'Rgs16', 'Rgs9', 'Ric8b', 'Satb2', 'Sdk2', 'Serpina9', 'Slitrk6', 'Sp8', 'SpB', 'Spink8', 'Stard8', 'Sy112', 'Synpo2', \n",
    "                 'Sytl2', 'Tcf712', 'Tmem196', 'Tmem215', 'Tnip2', 'Tnnc1', 'Tnnt1', 'Tox', 'Trip2', 'Ttc9b', 'Tunc1', 'Unc5d', 'Vangi1', 'Vangl1', 'logap2']\n",
    "    add_genes = []\n",
    "    OsNMF_gene_list.extend(add_genes)\n",
    "    OsNMF_gene_list = list(set(OsNMF_gene_list))\n",
    "    OsNMF_gene_list.sort()\n",
    "    #print(gene_list)\n",
    "    gene_col_index_lst = list(set(gene_col_index_lst) & set(OsNMF_gene_list))\n",
    "    gene_col_index_lst.sort()\n",
    "    \"\"\"\n",
    "    \n",
    "    gene_lst_for_each_slice_lst.extend(gene_col_index_lst)\n",
    "    \n",
    "    # create an empty 3D numpy array to store the data\n",
    "    gene_expression_2D_array = np.empty((len(gene_col_index_lst), num_pixel_row, num_pixel_height))\n",
    "    print(gene_expression_2D_array.shape)\n",
    "\n",
    "    # define the range of values for each column\n",
    "    col1_range = range(0, num_pixel_row)\n",
    "    col2_range = range(0, num_pixel_height)\n",
    "\n",
    "    # create a new dataframe with all possible combinations of values for the two columns\n",
    "    all_combin_row_and_col_coord_df = pd.DataFrame([(i, j) for i in col1_range for j in col2_range], columns=['pixelrow', 'pixelcol'])\n",
    "\n",
    "    index_to_gene_index_dict = {}\n",
    "\n",
    "    # loop over the genes and fill in the corresponding X values\n",
    "    count = 0\n",
    "    for gene_index in gene_col_index_lst:\n",
    "        index_to_gene_index_dict[count] = gene_index\n",
    "        gene_pixel_coords_df = specific_age_slice_mouse_anndata[:, gene_index].obs[[\"pixelrow\", \"pixelcol\"]].copy()\n",
    "        gene_pixel_coords_df[\"X_val\"] = specific_age_slice_mouse_anndata[gene_pixel_coords_df.index, gene_index].X.flatten().tolist().copy()\n",
    "        gene_pixel_coords_mean_df = gene_pixel_coords_df.groupby([\"pixelrow\", \"pixelcol\"]).mean().reset_index()\n",
    "\n",
    "        # merge the all_combin_row_and_col_coord_df with the original dataframe and fill missing values with 0 in X_val\n",
    "        gene_expression_2D_array[count,:,:] = pd.merge(gene_pixel_coords_mean_df, all_combin_row_and_col_coord_df, \n",
    "                             on=['pixelrow', 'pixelcol'], how='right').fillna({'X_val': 0}).pivot(index='pixelrow', \n",
    "                                                                                                  columns='pixelcol', \n",
    "                                                                                                  values='X_val').copy().to_numpy()\n",
    "        # if count % 10 == 0:\n",
    "        if count % 1000 == 0:\n",
    "            print(\"Finished processing this many genes: \", count)\n",
    "        count = count + 1\n",
    "\n",
    "        # Create the directory if it doesn't already exist\n",
    "        parent_dirname = \"REVISED_pixelated_spatial_gene_expression_osNMF_GENE_SLECTION\"\n",
    "        if not os.path.exists(parent_dirname):\n",
    "            os.makedirs(parent_dirname)\n",
    "\n",
    "        child_dirname = parent_dirname + '/' + specific_age + \"_\" + specific_slice + \"_dim=\" + str(num_x_bins) + \"_by_\" + str(num_y_bins)\n",
    "        if not os.path.exists(child_dirname):\n",
    "            os.makedirs(child_dirname)\n",
    "\n",
    "        # save the 4-dimensional NumPy array to a NPY file\n",
    "        np.save(child_dirname + '/' + specific_age + \"_\" + specific_slice + \"_dim=\" + str(num_x_bins) + \"_by_\" + str(num_y_bins) + '_gene_expression_2D_array.npy', gene_expression_2D_array)\n",
    "        \n",
    "\n",
    "print()\n",
    "end_time = time.time()\n",
    "elapsed_time = end_time - start_time\n",
    "print(\"Elapsed time: {:.2f} seconds\".format(elapsed_time))\n",
    "print(\"Elapsed time: {:.2f} minutes\".format(elapsed_time/60))\n",
    "print(\"Elapsed time: {:.2f} hours\".format(elapsed_time/360))"
   ]
  },
  {
   "cell_type": "code",
   "execution_count": null,
   "id": "1cde0a56-605b-41eb-bf51-dddfe4d78d89",
   "metadata": {
    "tags": []
   },
   "outputs": [],
   "source": [
    "# check all slices/age have same genes\n",
    "\n",
    "gene_lst_for_each_slice_lst = list(set(gene_lst_for_each_slice_lst))\n",
    "print(len(gene_lst_for_each_slice_lst))\n",
    "gene_lst_for_each_slice_lst.sort()\n",
    "\n",
    "# Create a dictionary with gene names as keys and their corresponding indices as values\n",
    "data = {'Gene Name': gene_lst_for_each_slice_lst,\n",
    "        'Index': range(len(gene_lst_for_each_slice_lst))}\n",
    "\n",
    "# Create a pandas DataFrame from the dictionary\n",
    "osNMF_gene_lst_df = pd.DataFrame(data)\n",
    "\n",
    "# Save the DataFrame to a CSV file named 'gene_data.csv'\n",
    "osNMF_gene_lst_df.to_csv(parent_dirname + '/' + 'osNMF_gene_lst_df_55_by_55_gene_expression.csv', index=False)\n",
    "\n",
    "\n",
    "osNMF_gene_lst_df"
   ]
  },
  {
   "cell_type": "code",
   "execution_count": null,
   "id": "bcb47fb9-5647-4249-bba8-2423bbf65852",
   "metadata": {
    "tags": []
   },
   "outputs": [],
   "source": [
    "M6_slice1_3_3_55_by_55_gene_expression_2D_array = np.load('pixelated_spatial_gene_expression_osNMF_GENE_SLECTION/M6_slice1_3_3_dim=55_by_55/M6_slice1_3_3_dim=55_by_55_gene_expression_2D_array.npy')\n",
    "M18_slice1_4_4_55_by_55_gene_expression_2D_array = np.load('pixelated_spatial_gene_expression_osNMF_GENE_SLECTION/M18_slice1_4_4_dim=55_by_55/M18_slice1_4_4_dim=55_by_55_gene_expression_2D_array.npy')\n",
    "M21_slice1_5_5_55_by_55_gene_expression_2D_array = np.load('pixelated_spatial_gene_expression_osNMF_GENE_SLECTION/M21_slice1_5_5_dim=55_by_55/M21_slice1_5_5_dim=55_by_55_gene_expression_2D_array.npy')\n",
    "\n",
    "print(\"M6_slice1_3_3_55_by_55_gene_expression_2D_array shape:\", M6_slice1_3_3_55_by_55_gene_expression_2D_array.shape)\n",
    "print(\"M18_slice1_4_4_55_by_55_gene_expression_2D_array shape:\", M18_slice1_4_4_55_by_55_gene_expression_2D_array.shape)\n",
    "print(\"M21_slice1_5_5_55_by_55_gene_expression_2D_array shape:\", M21_slice1_5_5_55_by_55_gene_expression_2D_array.shape)\n",
    "print()\n",
    "\n",
    "# Combine the arrays along the first dimension\n",
    "combined_mouse_ages_55_by_55_gene_expression = np.concatenate(\n",
    "    (M6_slice1_3_3_55_by_55_gene_expression_2D_array,\n",
    "     M18_slice1_4_4_55_by_55_gene_expression_2D_array,\n",
    "     M21_slice1_5_5_55_by_55_gene_expression_2D_array),\n",
    "    axis=1\n",
    ")\n",
    "\n",
    "# Verify the shape of the combined array\n",
    "print('combined_mouse_ages_55_by_55_gene_expression shape:', combined_mouse_ages_55_by_55_gene_expression.shape)\n",
    "\n",
    "\n",
    "# save the 4-dimensional NumPy array to a NPY file\n",
    "np.save(parent_dirname + '/' + 'combined_mouse_ages_55_by_55_gene_expression.npy', combined_mouse_ages_55_by_55_gene_expression)"
   ]
  },
  {
   "cell_type": "code",
   "execution_count": null,
   "id": "cad8eebb-2dfa-47e9-9444-4b562313361c",
   "metadata": {
    "tags": []
   },
   "outputs": [],
   "source": [
    "print(gene_lst_for_each_slice_lst)"
   ]
  },
  {
   "cell_type": "code",
   "execution_count": null,
   "id": "4c5e86f0-b849-42c7-88a0-f8d7ba3241f9",
   "metadata": {},
   "outputs": [],
   "source": []
  },
  {
   "cell_type": "code",
   "execution_count": null,
   "id": "149076a8-deb7-4a91-8756-0a2b2709ea20",
   "metadata": {},
   "outputs": [],
   "source": []
  },
  {
   "cell_type": "code",
   "execution_count": null,
   "id": "19ce29ae-7fec-4c2c-a5b1-d228d8cb71a4",
   "metadata": {},
   "outputs": [],
   "source": []
  },
  {
   "cell_type": "code",
   "execution_count": null,
   "id": "384221eb-14e5-417e-9855-ad5a377e6589",
   "metadata": {},
   "outputs": [],
   "source": []
  },
  {
   "cell_type": "code",
   "execution_count": null,
   "id": "d23abf78-bfed-406d-bcc6-f6bac88ee6a8",
   "metadata": {},
   "outputs": [],
   "source": []
  },
  {
   "cell_type": "code",
   "execution_count": null,
   "id": "2c91672f-5ad7-4257-8ed2-6390036160cb",
   "metadata": {},
   "outputs": [],
   "source": []
  },
  {
   "cell_type": "code",
   "execution_count": null,
   "id": "ac077e2c-f683-4a51-ba86-e8ead7d873c9",
   "metadata": {},
   "outputs": [],
   "source": []
  }
 ],
 "metadata": {
  "kernelspec": {
   "display_name": "Python 3 (ipykernel)",
   "language": "python",
   "name": "python3"
  },
  "language_info": {
   "codemirror_mode": {
    "name": "ipython",
    "version": 3
   },
   "file_extension": ".py",
   "mimetype": "text/x-python",
   "name": "python",
   "nbconvert_exporter": "python",
   "pygments_lexer": "ipython3",
   "version": "3.10.8"
  }
 },
 "nbformat": 4,
 "nbformat_minor": 5
}
